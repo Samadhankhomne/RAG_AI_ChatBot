{
  "cells": [
    {
      "cell_type": "code",
      "execution_count": null,
      "metadata": {
        "id": "9HvcUUn_j0ED"
      },
      "outputs": [],
      "source": [
        "#!pip install -r requirements.txt\n"
      ]
    },
    {
      "cell_type": "code",
      "execution_count": null,
      "metadata": {
        "id": "0nWSK9p2nKs_"
      },
      "outputs": [],
      "source": [
        "#!pip install langchain-groq"
      ]
    },
    {
      "cell_type": "code",
      "execution_count": null,
      "metadata": {
        "id": "f5jJ5ya8ua03"
      },
      "outputs": [],
      "source": [
        "#!pip install pymupdf langchain chromadb sentence-transformers"
      ]
    },
    {
      "cell_type": "code",
      "execution_count": 89,
      "metadata": {
        "id": "6NJJm1wIm5FT"
      },
      "outputs": [],
      "source": [
        "import os\n",
        "import fitz\n",
        "import chromadb\n",
        "from langchain.embeddings import HuggingFaceEmbeddings\n",
        "from langchain.vectorstores import Chroma\n",
        "from langchain.text_splitter import RecursiveCharacterTextSplitter\n",
        "from langchain.schema import HumanMessage\n",
        "from langchain.document_loaders import PyMuPDFLoader"
      ]
    },
    {
      "cell_type": "code",
      "execution_count": 90,
      "metadata": {
        "id": "ZegzUL1blpsX"
      },
      "outputs": [],
      "source": [
        "import getpass\n",
        "import os\n",
        "\n",
        "if \"GROQ_API_KEY\" not in os.environ:\n",
        "    os.environ[\"GROQ_API_KEY\"] = getpass.getpass(\"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\")"
      ]
    },
    {
      "cell_type": "code",
      "execution_count": 91,
      "metadata": {
        "id": "XGtuGlVRq6eA"
      },
      "outputs": [],
      "source": [
        "# Directory containing PDFs\n",
        "PDF_FOLDER = \"AI_pdf\"\n",
        "\n",
        "# Load all PDFs in the folder\n",
        "documents = []\n",
        "for pdf_file in os.listdir(PDF_FOLDER):\n",
        "    if pdf_file.endswith(\".pdf\"):\n",
        "        pdf_path = os.path.join(PDF_FOLDER, pdf_file)\n",
        "        loader = PyMuPDFLoader(pdf_path)\n",
        "        documents.extend(loader.load())"
      ]
    },
    {
      "cell_type": "code",
      "execution_count": null,
      "metadata": {
        "id": "vw7TjYrBq6mQ"
      },
      "outputs": [],
      "source": [
        "#documents"
      ]
    },
    {
      "cell_type": "code",
      "execution_count": 95,
      "metadata": {
        "id": "Yr_Lh3Qslpwo"
      },
      "outputs": [],
      "source": [
        "import textwrap\n",
        "\n",
        "def wrap_text_preserve_newlines(text, width=110):\n",
        "    # Split the input text into lines based on newline characters\n",
        "    lines = text.split('\\n')\n",
        "\n",
        "    # Wrap each line individually\n",
        "    wrapped_lines = [textwrap.fill(line, width=width) for line in lines]\n",
        "\n",
        "    # Join the wrapped lines back together using newline characters\n",
        "    wrapped_text = '\\n'.join(wrapped_lines)\n",
        "\n",
        "    return wrapped_text"
      ]
    },
    {
      "cell_type": "code",
      "execution_count": 96,
      "metadata": {
        "colab": {
          "base_uri": "https://localhost:8080/"
        },
        "id": "YnbJHt6Vlp6J",
        "outputId": "9b7f9829-3b53-49b1-e0a0-676d76a65ec4"
      },
      "outputs": [
        {
          "output_type": "stream",
          "name": "stdout",
          "text": [
            "page_content='Artificial Intelligence\n",
            "\n",
            "\n",
            "i\n",
            "About the Tutorial\n",
            "This tutorial provides introductory knowledge on Artificial Intelligence. It would come to a\n",
            "great help if you are about to select Artificial Intelligence as a course subject. You can briefly\n",
            "know about the areas of AI in which research is prospering.\n",
            "\n",
            "\n",
            "Audience\n",
            "This tutorial is prepared for the students at beginner level who aspire to learn Artificial\n",
            "Intelligence.\n",
            "\n",
            "\n",
            "Prerequisites\n",
            "The basic knowledge of Computer Science is mandatory. The knowledge of Mathematics,\n",
            "Languages, Science, Mechanical or Electrical engineering is a plus.\n",
            "\n",
            "Disclaimer & Copyright\n",
            " Copyright 2015 by Tutorials Point (I) Pvt. Ltd.\n",
            "All the content and graphics published in this e-book are the property of Tutorials Point (I)\n",
            "Pvt. Ltd. The user of this e-book is prohibited to reuse, retain, copy, distribute or republish\n",
            "any contents or a part of contents of this e-book in any manner without written consent of\n",
            "the publisher.\n",
            "We strive to update the contents of our website and tutorials as timely and as precisely as\n",
            "possible, however, the contents may contain inaccuracies or errors. Tutorials Point (I) Pvt.\n",
            "Ltd. provides no guarantee regarding the accuracy, timeliness or completeness of our website\n",
            "or its contents including this tutorial. If you discover any errors on our website or in this\n",
            "tutorial, please notify us at contact@tutorialspoint.com.' metadata={'producer': 'Microsoft® Word 2016',\n",
            "'creator': 'Microsoft® Word 2016', 'creationdate': '2016-10-10T13:06:13+05:30', 'source':\n",
            "'AI_pdf/artificial_intelligence_tutorial.pdf', 'file_path': 'AI_pdf/artificial_intelligence_tutorial.pdf',\n",
            "'total_pages': 68, 'format': 'PDF 1.5', 'title': 'Artificial Intelligence', 'author': 'Manisha Shejwal',\n",
            "'subject': '', 'keywords': '', 'moddate': '2016-10-10T13:06:13+05:30', 'trapped': '', 'page': 1}\n"
          ]
        }
      ],
      "source": [
        "print(wrap_text_preserve_newlines(str(documents[1])))"
      ]
    },
    {
      "cell_type": "code",
      "execution_count": 97,
      "metadata": {
        "id": "omPVu0hylqCv"
      },
      "outputs": [],
      "source": [
        "# Text Splitter\n",
        "from langchain.text_splitter import CharacterTextSplitter\n",
        "text_splitter = CharacterTextSplitter(chunk_size=1500, chunk_overlap=0)\n",
        "docs = text_splitter.split_documents(documents)"
      ]
    },
    {
      "cell_type": "code",
      "execution_count": 98,
      "metadata": {
        "colab": {
          "base_uri": "https://localhost:8080/"
        },
        "id": "qcYS37WnmqeO",
        "outputId": "58f6ca8a-11b8-40d5-c979-43283736abb6"
      },
      "outputs": [
        {
          "output_type": "execute_result",
          "data": {
            "text/plain": [
              "878"
            ]
          },
          "metadata": {},
          "execution_count": 98
        }
      ],
      "source": [
        "len(docs)"
      ]
    },
    {
      "cell_type": "code",
      "execution_count": 99,
      "metadata": {
        "id": "rN3a13AbrVTn"
      },
      "outputs": [],
      "source": [
        "#docs"
      ]
    },
    {
      "cell_type": "code",
      "execution_count": 100,
      "metadata": {
        "colab": {
          "base_uri": "https://localhost:8080/"
        },
        "id": "f9ruf5lJrVMV",
        "outputId": "cdc1423c-733d-43d6-caec-aca772d17cfd"
      },
      "outputs": [
        {
          "output_type": "stream",
          "name": "stderr",
          "text": [
            "<ipython-input-100-a153ccf152c6>:2: LangChainDeprecationWarning: Default values for HuggingFaceEmbeddings.model_name were deprecated in LangChain 0.2.16 and will be removed in 0.4.0. Explicitly pass a model_name to the HuggingFaceEmbeddings constructor instead.\n",
            "  embeddings = HuggingFaceEmbeddings()\n"
          ]
        }
      ],
      "source": [
        "from langchain.embeddings import HuggingFaceEmbeddings\n",
        "embeddings = HuggingFaceEmbeddings()"
      ]
    },
    {
      "cell_type": "code",
      "execution_count": 101,
      "metadata": {
        "id": "WPT9MCIw-Lrg"
      },
      "outputs": [],
      "source": [
        "from langchain.vectorstores import Chroma\n",
        "from langchain.embeddings import HuggingFaceEmbeddings\n",
        "\n",
        "# Initialize embeddings\n",
        "embeddings = HuggingFaceEmbeddings(model_name=\"sentence-transformers/all-MiniLM-L6-v2\")\n",
        "\n"
      ]
    },
    {
      "cell_type": "code",
      "source": [
        "# Create a Chroma vector store\n",
        "db = Chroma.from_documents(\n",
        "    documents=docs,\n",
        "    embedding=embeddings,\n",
        "    persist_directory=\"./chroma_db\"\n",
        ")\n",
        "\n",
        "db.persist()"
      ],
      "metadata": {
        "colab": {
          "base_uri": "https://localhost:8080/"
        },
        "id": "3GR9ebOgSDh0",
        "outputId": "3e45b703-4059-4b41-8510-a0f6479a76f4"
      },
      "execution_count": 103,
      "outputs": [
        {
          "output_type": "stream",
          "name": "stderr",
          "text": [
            "<ipython-input-103-fc801292f06a>:9: LangChainDeprecationWarning: Since Chroma 0.4.x the manual persistence method is no longer supported as docs are automatically persisted.\n",
            "  db.persist()\n"
          ]
        }
      ]
    },
    {
      "cell_type": "code",
      "execution_count": 104,
      "metadata": {
        "id": "htLDY3GZng4n"
      },
      "outputs": [],
      "source": [
        "query = \"explain about AI\"\n",
        "docs = db.similarity_search(query)"
      ]
    },
    {
      "cell_type": "code",
      "execution_count": 109,
      "metadata": {
        "id": "h-buR1q6nji8",
        "colab": {
          "base_uri": "https://localhost:8080/"
        },
        "outputId": "305ead4b-7b2c-42d0-9d6d-5686198abd5b"
      },
      "outputs": [
        {
          "output_type": "stream",
          "name": "stdout",
          "text": [
            "Artificial Intelligence\n",
            "\n",
            "\n",
            "1\n",
            "Since the invention of computers or machines, their capability to perform various tasks went\n",
            "on growing exponentially. Humans have developed the power of computer systems in terms\n",
            "of their diverse working domains, their increasing speed, and reducing size with respect to\n",
            "time.\n",
            "A branch of Computer Science named Artificial Intelligence pursues creating the computers or\n",
            "machines as intelligent as human beings.\n",
            "What is Artificial Intelligence?\n",
            "According to the father of Artificial Intelligence John McCarthy, it is “The science and\n",
            "engineering of making intelligent machines, especially intelligent computer programs”.\n",
            "Artificial Intelligence is a way of making a computer, a computer-controlled robot, or a\n",
            "software think intelligently, in the similar manner the intelligent humans think.\n",
            "AI is accomplished by studying how human brain thinks, and how humans learn, decide, and\n",
            "work while trying to solve a problem, and then using the outcomes of this study as a basis of\n",
            "developing intelligent software and systems.\n",
            "Philosophy of AI\n",
            "While exploiting the power of the computer systems, the curiosity of human, lead him to\n",
            "wonder, “Can a machine think and behave like humans do?”\n",
            "Thus, the development of AI started with the intention of creating similar intelligence in\n",
            "machines that we find and regard high in humans.\n",
            "Goals of AI\n",
            "\n",
            "To Create Expert Systems: The systems which exhibit intelligent behavior, learn,\n",
            "demonstrate, explain, and advice its users.\n",
            "\n",
            "To Implement Human Intelligence in Machines: Creating systems that\n",
            "understand, think, learn, and behave like humans.\n",
            "\n",
            "\n",
            "1. Overview of AI\n"
          ]
        }
      ],
      "source": [
        "print(wrap_text_preserve_newlines(str(docs[0].page_content)))"
      ]
    },
    {
      "cell_type": "code",
      "source": [
        "query = \"explain about Machine Learning\"\n",
        "docs = db.similarity_search(query)"
      ],
      "metadata": {
        "id": "9AS1VKtXWLuM"
      },
      "execution_count": 116,
      "outputs": []
    },
    {
      "cell_type": "code",
      "source": [
        "print(wrap_text_preserve_newlines(str(docs[2].page_content)))"
      ],
      "metadata": {
        "colab": {
          "base_uri": "https://localhost:8080/"
        },
        "id": "MTPh0VyBWhaL",
        "outputId": "054c0551-f47a-4887-c6a8-69af43c1dc27"
      },
      "execution_count": 117,
      "outputs": [
        {
          "output_type": "stream",
          "name": "stdout",
          "text": [
            "Machine Learning\n",
            "4\n",
            "Introduction to Part 4\n",
            "Part 4 is divided into five chapters:\n",
            "Introduction to Machine Learning\n",
            "This chapter introduces a number of techniques for\n",
            "machine learning, such as ID3 for learning decision trees,\n",
            "version spaces, and the nearest neighbor algorithm. It also\n",
            "introduces the ideas behind neural networks, which are\n",
            "covered in more detail in Chapter 11.\n",
            "This chapter explains the idea of inductive bias and why it\n",
            "is important in machine learning.\n",
            "Neural Networks\n",
            "This chapter expands on the ideas introduced in Chapter 10\n",
            "and gives a more detailed coverage of neural networks. It\n",
            "explains the relationship between artificial neurons and\n",
            "biological neurons, and introduces perceptions. The chap-\n",
            "ter then explains multilayer networks and introduces back-\n",
            "propagation as a way to train multilayer networks. It also\n",
            "introduces recurrent networks, such as Hopfield networks.\n",
            "This chapter explains unsupervised neural networks (such\n",
            "as Kohonen maps) as well as supervised ones.\n",
            "Finally, this chapter briefly introduces the idea of evolving\n",
            "neural networks, combining ideas from this chapter with\n",
            "ideas from Chapters 13 and 14.\n",
            "PART\n",
            "10\n",
            "CHAPTER\n",
            "11\n",
            "CHAPTER\n"
          ]
        }
      ]
    },
    {
      "cell_type": "code",
      "source": [
        "query = \"Summarise the documents\"\n",
        "docs = db.similarity_search(query)"
      ],
      "metadata": {
        "id": "S6bRDSMSWuR4"
      },
      "execution_count": 118,
      "outputs": []
    },
    {
      "cell_type": "code",
      "source": [
        "print(wrap_text_preserve_newlines(str(docs[2].page_content)))"
      ],
      "metadata": {
        "colab": {
          "base_uri": "https://localhost:8080/"
        },
        "id": "dnSG3FdvXcnc",
        "outputId": "794cfefd-7854-4d21-9a69-0705412ee34c"
      },
      "execution_count": 124,
      "outputs": [
        {
          "output_type": "stream",
          "name": "stdout",
          "text": [
            "How to Read This Book\n",
            "This book can be read in several ways. Some readers will choose to read the\n",
            "chapters through in order from Chapter 1 through Chapter 21. Any chapter\n",
            "that uses material which is presented in another chapter gives a clear refer-\n",
            "ence to that chapter, and readers following the book from start to finish\n",
            "should not need to jump forward at any point, as the chapter dependencies\n",
            "tend to work in a forward direction.\n",
            "Another perfectly reasonable way to use this book is as a reference. When a\n",
            "reader needs to know more about a particular subject, he or she can pick up\n",
            "this book and select the appropriate chapter or chapters, and can be illumi-\n",
            "nated on the subject (at least, that is the author’s intent!)\n",
            "Chapter 12 contains a diagram that shows how the dependencies between\n",
            "chapters work (Section 12.6.2). This diagram shows, for example, that if a\n",
            "reader wants to read Chapter 8, it would be a good idea to already have read\n",
            "Chapter 7.\n",
            "This book is divided into six parts, each of which is further divided into a\n",
            "number of chapters. The chapters are laid out as follows:\n",
            "Part 1:Introduction to Artificial Intelligence\n",
            "Chapter 1: A Brief History of Artificial Intelligence\n",
            "Chapter 2: Uses and Limitations\n",
            "Chapter 3: Knowledge Representation\n",
            "Part 2:Search\n",
            "Chapter 4: Search Methodologies\n",
            "Chapter 5: Advanced Search\n",
            "Chapter 6: Game Playing\n",
            "Part 3:Logic\n",
            "Chapter 7: Propositional and Predicate Logic\n",
            "Chapter 8: Inference and Resolution for Problem Solving\n",
            "Chapter 9: Rules and Expert Systems\n",
            "vi\n",
            "Preface\n"
          ]
        }
      ]
    },
    {
      "cell_type": "code",
      "source": [
        "query = \"What is ai agents\"\n",
        "docs = db.similarity_search(query)"
      ],
      "metadata": {
        "id": "bNz1UZCjXp-g"
      },
      "execution_count": 135,
      "outputs": []
    },
    {
      "cell_type": "code",
      "source": [
        "print(wrap_text_preserve_newlines(str(docs[1].page_content)))"
      ],
      "metadata": {
        "colab": {
          "base_uri": "https://localhost:8080/"
        },
        "id": "58QDymceZS-8",
        "outputId": "360a9245-7e28-4604-cf4d-4b72327cad6e"
      },
      "execution_count": 137,
      "outputs": [
        {
          "output_type": "stream",
          "name": "stdout",
          "text": [
            "Artificial Intelligence\n",
            "\n",
            "\n",
            "14\n",
            "An AI system is composed of an agent and its environment. The agents act in their\n",
            "environment. The environment may contain other agents.\n",
            "What are Agent and Environment?\n",
            "An agent is anything that can perceive its environment through sensors and acts upon that\n",
            "environment through effectors.\n",
            "\n",
            "A human agent has sensory organs such as eyes, ears, nose, tongue and skin parallel\n",
            "to the sensors, and other organs such as hands, legs, mouth, for effectors.\n",
            "\n",
            "A robotic agent replaces cameras and infrared range finders for the sensors, and\n",
            "various motors and actuators for effectors.\n",
            "\n",
            "A software agent has encoded bit strings as its programs and actions.\n",
            "\n",
            "Agents Terminology\n",
            "\n",
            "Performance Measure of Agent: It is the criteria, which determines how successful\n",
            "an agent is.\n",
            "\n",
            "Behavior of Agent: It is the action that agent performs after any given sequence of\n",
            "percepts.\n",
            "\n",
            "Percept: It is agent’s perceptual inputs at a given instance.\n",
            "\n",
            "Percept Sequence: It is the history of all that an agent has perceived till date.\n",
            "4. Agents and Environments\n"
          ]
        }
      ]
    }
  ],
  "metadata": {
    "accelerator": "GPU",
    "colab": {
      "gpuType": "T4",
      "provenance": []
    },
    "kernelspec": {
      "display_name": "Python 3",
      "name": "python3"
    },
    "language_info": {
      "name": "python"
    }
  },
  "nbformat": 4,
  "nbformat_minor": 0
}